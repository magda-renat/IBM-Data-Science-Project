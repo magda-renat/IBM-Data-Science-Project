{
    "cells": [
        {
            "cell_type": "markdown",
            "metadata": {
                "collapsed": true
            },
            "source": "# \"My Jupyter Notebook on IBM Watson Studio\""
        },
        {
            "cell_type": "markdown",
            "metadata": {},
            "source": "**Magdalena Falasca** \nHotel Manager "
        },
        {
            "cell_type": "markdown",
            "metadata": {},
            "source": "*I use data as part of my current job in order to make operational improvements.  I am interested in data science as it will help me more efficiently problem solve and improve my organisation.*"
        },
        {
            "cell_type": "markdown",
            "metadata": {},
            "source": "### The goal of my code in the next cell (Cell 5) is to solve a basic multiplication function.  "
        },
        {
            "cell_type": "code",
            "execution_count": 6,
            "metadata": {},
            "outputs": [
                {
                    "data": {
                        "text/plain": "56"
                    },
                    "execution_count": 6,
                    "metadata": {},
                    "output_type": "execute_result"
                }
            ],
            "source": "7*8"
        },
        {
            "cell_type": "markdown",
            "metadata": {},
            "source": "> Block quotes sample test. \n> See below for long quote from Lord of the Rings.  \n\nQuote break. \n\n> All that is gold does not glitter.  Not all those who wander are lost. The old that is strong does not wither.  Deep roots are not reached by the frost.  From the ashes a fire shall be woken, a light from the shadows shall spring.  Renewed shall be blade that was broken.  The crownless again shall be king.\n\n1. Ordered list row one \n2. Ordered list row two \n    1. Ordered sublist one \n\nHorizontal rule below showing favourite places to travel...\n\n---\n\nVenice, Italy\n\n*** \n\nOxford, England, UK \n\n___ \n\nAlaska, United States \n\nTest | Table | One \n--- | --- | --- | \nCol 1 is | **Apples** | 24 \n|       |                | \nCol 2 is | **Pears** | 72 \n|            |          | \nCol 3 is | **Oranges** | 97 \n\n\n\n\n\n\n"
        },
        {
            "cell_type": "code",
            "execution_count": null,
            "metadata": {},
            "outputs": [],
            "source": ""
        }
    ],
    "metadata": {
        "kernelspec": {
            "display_name": "Python 3.6",
            "language": "python",
            "name": "python3"
        },
        "language_info": {
            "codemirror_mode": {
                "name": "ipython",
                "version": 3
            },
            "file_extension": ".py",
            "mimetype": "text/x-python",
            "name": "python",
            "nbconvert_exporter": "python",
            "pygments_lexer": "ipython3",
            "version": "3.6.9"
        }
    },
    "nbformat": 4,
    "nbformat_minor": 1
}